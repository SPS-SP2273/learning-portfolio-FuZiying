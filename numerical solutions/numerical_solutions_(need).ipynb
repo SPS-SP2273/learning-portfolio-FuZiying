{
 "cells": [
  {
   "cell_type": "markdown",
   "id": "123456",
   "metadata": {},
   "source": [
    "<div style=\"text-align:left;font-size:2em\"><span style=\"font-weight:bolder;font-size:1.25em\">SP2273 | Learning Portfolio</span><br><br><span style=\"font-weight:bold;color:darkred\">Numerical Solutions (Need)</span></div>"
   ]
  },
  {
   "cell_type": "markdown",
   "id": "5a1ed01c",
   "metadata": {},
   "source": [
    "## 1 A Bucket of water"
   ]
  },
  {
   "cell_type": "markdown",
   "id": "2324d9bb",
   "metadata": {},
   "source": [
    "### 1.1 Getting a feel"
   ]
  },
  {
   "cell_type": "code",
   "execution_count": null,
   "id": "a14a4a23",
   "metadata": {},
   "outputs": [],
   "source": [
    "\n",
    "# Your code here\n"
   ]
  },
  {
   "cell_type": "markdown",
   "id": "07ac9640",
   "metadata": {},
   "source": [
    "### 1.2 An overflowing bucket"
   ]
  },
  {
   "cell_type": "code",
   "execution_count": null,
   "id": "809e4361",
   "metadata": {},
   "outputs": [],
   "source": [
    "\n",
    "# Your code here\n"
   ]
  },
  {
   "cell_type": "markdown",
   "id": "63e06996",
   "metadata": {},
   "source": [
    "### 1.3 A leaky bucket"
   ]
  },
  {
   "cell_type": "code",
   "execution_count": null,
   "id": "2abdfbd4",
   "metadata": {},
   "outputs": [],
   "source": [
    "\n",
    "# Your code here\n"
   ]
  },
  {
   "cell_type": "markdown",
   "id": "366936b0",
   "metadata": {},
   "source": [
    "### 1.4 Let’s turn off the tap"
   ]
  },
  {
   "cell_type": "code",
   "execution_count": null,
   "id": "93a253eb",
   "metadata": {},
   "outputs": [],
   "source": [
    "\n",
    "# Your code here\n"
   ]
  },
  {
   "cell_type": "markdown",
   "id": "73fd31b6",
   "metadata": {},
   "source": [
    "### Using while"
   ]
  },
  {
   "cell_type": "code",
   "execution_count": null,
   "id": "3157803b",
   "metadata": {},
   "outputs": [],
   "source": [
    "\n",
    "# Your code here\n"
   ]
  },
  {
   "cell_type": "markdown",
   "id": "6714ecfd",
   "metadata": {},
   "source": [
    "### 1.5 A quick summary"
   ]
  },
  {
   "cell_type": "code",
   "execution_count": null,
   "id": "7e9b1a63",
   "metadata": {},
   "outputs": [],
   "source": [
    "\n",
    "# Your code here\n"
   ]
  },
  {
   "cell_type": "markdown",
   "id": "a87bec53",
   "metadata": {},
   "source": [
    "### 1.6 We just solved a differential equation!"
   ]
  },
  {
   "cell_type": "code",
   "execution_count": null,
   "id": "bb7b1592",
   "metadata": {},
   "outputs": [],
   "source": [
    "\n",
    "# Your code here\n"
   ]
  },
  {
   "cell_type": "markdown",
   "id": "0299521f",
   "metadata": {},
   "source": [
    "## 2 Simulating Radioactivity"
   ]
  },
  {
   "cell_type": "markdown",
   "id": "4e3b05e9",
   "metadata": {},
   "source": [
    "### 2.1 Introduction"
   ]
  },
  {
   "cell_type": "code",
   "execution_count": null,
   "id": "d8a78361",
   "metadata": {},
   "outputs": [],
   "source": [
    "\n",
    "# Your code here\n"
   ]
  },
  {
   "cell_type": "markdown",
   "id": "75dc9670",
   "metadata": {},
   "source": [
    "### 2.2 Approximating the differential equation"
   ]
  },
  {
   "cell_type": "code",
   "execution_count": null,
   "id": "c595795d",
   "metadata": {},
   "outputs": [],
   "source": [
    "\n",
    "# Your code here\n"
   ]
  },
  {
   "cell_type": "markdown",
   "id": "c304863f",
   "metadata": {},
   "source": [
    "### 2.3 Getting a feel"
   ]
  },
  {
   "cell_type": "code",
   "execution_count": null,
   "id": "75b2b3bf",
   "metadata": {},
   "outputs": [],
   "source": [
    "\n",
    "# Your code here\n"
   ]
  },
  {
   "cell_type": "markdown",
   "id": "43c2dcef",
   "metadata": {},
   "source": [
    "### 2.4 Let’s write some code"
   ]
  },
  {
   "cell_type": "code",
   "execution_count": null,
   "id": "261cd5da",
   "metadata": {},
   "outputs": [],
   "source": [
    "\n",
    "# Your code here\n"
   ]
  },
  {
   "cell_type": "markdown",
   "id": "42a5d38c",
   "metadata": {},
   "source": [
    "### 2.5 Some things to note about the code"
   ]
  },
  {
   "cell_type": "code",
   "execution_count": null,
   "id": "178fa274",
   "metadata": {},
   "outputs": [],
   "source": [
    "\n",
    "# Your code here\n"
   ]
  },
  {
   "cell_type": "markdown",
   "id": "adb1beee",
   "metadata": {},
   "source": [
    "### 2.6 A quick summary"
   ]
  },
  {
   "cell_type": "code",
   "execution_count": null,
   "id": "77b99aee",
   "metadata": {},
   "outputs": [],
   "source": [
    "\n",
    "# Your code here\n"
   ]
  },
  {
   "cell_type": "markdown",
   "id": "241d058c",
   "metadata": {},
   "source": [
    "## Exercise 1 :  A more realistic leak"
   ]
  },
  {
   "cell_type": "code",
   "execution_count": 2,
   "id": "aa2b6e0a",
   "metadata": {},
   "outputs": [],
   "source": [
    "import math   "
   ]
  },
  {
   "cell_type": "code",
   "execution_count": 4,
   "id": "73474579",
   "metadata": {},
   "outputs": [],
   "source": [
    "from matplotlib import pyplot as plt"
   ]
  },
  {
   "cell_type": "code",
   "execution_count": 5,
   "id": "bc83f9b9",
   "metadata": {},
   "outputs": [
    {
     "data": {
      "text/plain": [
       "Text(0.5, 0, 'Time(mins)')"
      ]
     },
     "execution_count": 5,
     "metadata": {},
     "output_type": "execute_result"
    },
    {
     "data": {
      "image/png": "[encoded data removed]",
      "text/plain": [
       "<Figure size 640x480 with 1 Axes>"
      ]
     },
     "metadata": {},
     "output_type": "display_data"
    }
   ],
   "source": [
    "tap_off_time = 3                 \n",
    "max_time = 4                     \n",
    "dt = .0001                        \n",
    "rate = 5                                           \n",
    "bucket_capacity = 9              \n",
    "all_volume = []                  \n",
    "volume = 0\n",
    "\n",
    "def leak_rate(vol):\n",
    "    h = (vol/1000)/0.07\n",
    "    water_speed = math.sqrt(2 * 9.8 * h * 60**2) \n",
    "    if water_speed > 0:\n",
    "        leak_rate = 0.0001 * water_speed * 1000\n",
    "    else:\n",
    "        leak_rate = 0\n",
    "    return(leak_rate)\n",
    "\n",
    "\n",
    "\n",
    "all_time = np.arange(start=0, stop=max_time, step=dt)\n",
    "\n",
    "for time in all_time:\n",
    "    all_volume.append(volume)\n",
    "    dV = rate * dt\n",
    "\n",
    "    if volume == 0:\n",
    "        volume += dV\n",
    "    \n",
    "    elif volume > 0:\n",
    "        #print(leak_rate(volume))\n",
    "        leak_volume = leak_rate(volume) * dt\n",
    "        volume -= leak_volume\n",
    "\n",
    "    if (volume <= bucket_capacity) and (time < tap_off_time):\n",
    "        volume += dV\n",
    "    \n",
    "    if volume < 0:\n",
    "        volume = 0\n",
    "        \n",
    "#     print(volume)\n",
    "\n",
    "plt.plot(all_time, all_volume)\n",
    "plt.ylabel('Volume(L)')\n",
    "plt.xlabel('Time(mins)')\n",
    "\n"
   ]
  }
 ],
 "metadata": {
  "kernelspec": {
   "display_name": "Python 3 (ipykernel)",
   "language": "python",
   "name": "python3"
  },
  "language_info": {
   "codemirror_mode": {
    "name": "ipython",
    "version": 3
   },
   "file_extension": ".py",
   "mimetype": "text/x-python",
   "name": "python",
   "nbconvert_exporter": "python",
   "pygments_lexer": "ipython3",
   "version": "3.10.8"
  },
  "toc": {
   "base_numbering": 1,
   "nav_menu": {},
   "number_sections": true,
   "sideBar": true,
   "skip_h1_title": false,
   "title_cell": "Table of Contents",
   "title_sidebar": "Contents",
   "toc_cell": false,
   "toc_position": {},
   "toc_section_display": true,
   "toc_window_display": false
  },
  "varInspector": {
   "cols": {
    "lenName": 16,
    "lenType": 16,
    "lenVar": 40
   },
   "kernels_config": {
    "python": {
     "delete_cmd_postfix": "",
     "delete_cmd_prefix": "del ",
     "library": "var_list.py",
     "varRefreshCmd": "print(var_dic_list())"
    },
    "r": {
     "delete_cmd_postfix": ") ",
     "delete_cmd_prefix": "rm(",
     "library": "var_list.r",
     "varRefreshCmd": "cat(var_dic_list()) "
    }
   },
   "types_to_exclude": [
    "module",
    "function",
    "builtin_function_or_method",
    "instance",
    "_Feature"
   ],
   "window_display": false
  },
  "vscode": {
   "interpreter": {
    "hash": "31f2aee4e71d21fbe5cf8b01ff0e069b9275f58929596ceb00d14d90e3e16cd6"
   }
  }
 },
 "nbformat": 4,
 "nbformat_minor": 5
}
