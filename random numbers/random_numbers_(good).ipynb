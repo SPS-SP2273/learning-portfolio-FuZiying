{
 "cells": [
  {
   "cell_type": "markdown",
   "id": "123456",
   "metadata": {},
   "source": [
    "<div style=\"text-align:left;font-size:2em\"><span style=\"font-weight:bolder;font-size:1.25em\">SP2273 | Learning Portfolio</span><br><br><span style=\"font-weight:bold;color:darkred\">Random Numbers (Good)</span></div>"
   ]
  },
  {
   "cell_type": "markdown",
   "id": "d40ffbfc",
   "metadata": {},
   "source": [
    "## 1 Random numbers from other distributions"
   ]
  },
  {
   "cell_type": "markdown",
   "id": "5aacdd35",
   "metadata": {},
   "source": [
    "### 1.1 Random numbers from the Normal distribution"
   ]
  },
  {
   "cell_type": "code",
   "execution_count": null,
   "id": "eb4e1d74",
   "metadata": {},
   "outputs": [],
   "source": [
    "\n",
    "# Your code here\n"
   ]
  },
  {
   "cell_type": "markdown",
   "id": "004730e5",
   "metadata": {},
   "source": [
    "### 1.2 Visualising the random numbers"
   ]
  },
  {
   "cell_type": "code",
   "execution_count": null,
   "id": "618c35b9",
   "metadata": {},
   "outputs": [],
   "source": [
    "\n",
    "# Your code here\n"
   ]
  },
  {
   "cell_type": "markdown",
   "id": "2ab5adaa",
   "metadata": {},
   "source": [
    "### 1.3 68%?"
   ]
  },
  {
   "cell_type": "code",
   "execution_count": null,
   "id": "579bd95a",
   "metadata": {},
   "outputs": [],
   "source": [
    "\n",
    "# Your code here\n"
   ]
  },
  {
   "cell_type": "markdown",
   "id": "79e688a9",
   "metadata": {},
   "source": [
    "## 1 Brownian Motion in 1D"
   ]
  },
  {
   "cell_type": "markdown",
   "id": "48d1557a",
   "metadata": {},
   "source": [
    "### 1.1 The scenario"
   ]
  },
  {
   "cell_type": "code",
   "execution_count": null,
   "id": "f2b1e5a2",
   "metadata": {},
   "outputs": [],
   "source": [
    "\n",
    "# Your code here\n"
   ]
  },
  {
   "cell_type": "markdown",
   "id": "003b69f3",
   "metadata": {},
   "source": [
    "### 1.2 The simulation"
   ]
  },
  {
   "cell_type": "code",
   "execution_count": null,
   "id": "137a3aa1",
   "metadata": {},
   "outputs": [],
   "source": [
    "\n",
    "# Your code here\n"
   ]
  },
  {
   "cell_type": "markdown",
   "id": "68ecb64f",
   "metadata": {},
   "source": [
    "### 1.3 What does theory say?"
   ]
  },
  {
   "cell_type": "code",
   "execution_count": null,
   "id": "83ab0dd1",
   "metadata": {},
   "outputs": [],
   "source": [
    "\n",
    "# Your code here\n"
   ]
  },
  {
   "cell_type": "markdown",
   "id": "528f3bd2",
   "metadata": {},
   "source": [
    "## 2 Estimating \\(\\pi\\)"
   ]
  },
  {
   "cell_type": "markdown",
   "id": "725c7a72",
   "metadata": {},
   "source": [
    "### 2.1 The method"
   ]
  },
  {
   "cell_type": "code",
   "execution_count": null,
   "id": "7c6205b4",
   "metadata": {},
   "outputs": [],
   "source": [
    "\n",
    "# Your code here\n"
   ]
  },
  {
   "cell_type": "markdown",
   "id": "b883d27c",
   "metadata": {},
   "source": [
    "### 2.2 A poor but intuitive solution"
   ]
  },
  {
   "cell_type": "code",
   "execution_count": null,
   "id": "f2da984e",
   "metadata": {},
   "outputs": [],
   "source": [
    "\n",
    "# Your code here\n"
   ]
  },
  {
   "cell_type": "markdown",
   "id": "f5ee1240",
   "metadata": {},
   "source": [
    "### 2.3 A better solution"
   ]
  },
  {
   "cell_type": "code",
   "execution_count": null,
   "id": "202f1ef9",
   "metadata": {},
   "outputs": [],
   "source": [
    "\n",
    "# Your code here\n"
   ]
  },
  {
   "cell_type": "markdown",
   "id": "16f80caa",
   "metadata": {},
   "source": [
    "### 2.4 A smarter solution"
   ]
  },
  {
   "cell_type": "code",
   "execution_count": null,
   "id": "21f2e548",
   "metadata": {},
   "outputs": [],
   "source": [
    "\n",
    "# Your code here\n"
   ]
  },
  {
   "cell_type": "markdown",
   "id": "5080f5ec",
   "metadata": {},
   "source": [
    "## Exercise 1 :  Vital Stats of Random π"
   ]
  },
  {
   "cell_type": "code",
   "execution_count": null,
   "id": "1fc22a4e",
   "metadata": {},
   "outputs": [
    {
     "name": "stdout",
     "output_type": "stream",
     "text": [
      "mean = 3.1389880000000003, standard deviation = 0.016821648432897403\n"
     ]
    }
   ],
   "source": [
    "import numpy.random as rnd\n",
    "from matplotlib import pyplot as plt\n",
    "\n",
    "\n",
    "def estimate_pi(n):\n",
    "    x=rnd.uniform(low=-1, high=1, size=n)\n",
    "    y=rnd.uniform(low=-1, high=1, size=n)\n",
    "    n_green= np.sum((x**2+y**2) <= 1)                \n",
    "    return 4 * (n_green / n)\n",
    "\n",
    "n10000 = [estimate_pi(10000) for n in range(100)]\n",
    "\n",
    "mean = np.mean(n10000)\n",
    "std = np.std(n10000)\n",
    "\n",
    "print(f'mean = {mean}, standard deviation = {std}')\n",
    "\n",
    "ns = [10**i for i in range(1, 7)]\n",
    "means = []\n",
    "std_devs = []\n",
    "\n",
    "for n in ns:\n",
    "    est = [estimate_pi(n) for _ in range(100)]\n",
    "    mean = np.mean(est)\n",
    "    std_dev = np.std(est)\n",
    "    means.append(mean)\n",
    "    std_devs.append(std_dev)\n",
    "\n",
    "y_line = np.linspace(np.pi, np.pi)\n",
    "plt.errorbar(ns, means, yerr=std_devs, fmt='o', label='Std. Dev. of π values')\n",
    "plt.axhline(y=np.pi, linestyle='--', alpha = .25, label = 'Real π')\n",
    "plt.xscale('log')\n",
    "plt.xlabel('No. of points used to generate value')\n",
    "plt.ylabel('Value of π')\n",
    "plt.legend()\n",
    "plt.title('Value of π vs. No. of Points Used')\n",
    "plt.show()\n"
   ]
  }
 ],
 "metadata": {
  "kernelspec": {
   "display_name": "Python 3 (ipykernel)",
   "language": "python",
   "name": "python3"
  },
  "language_info": {
   "codemirror_mode": {
    "name": "ipython",
    "version": 3
   },
   "file_extension": ".py",
   "mimetype": "text/x-python",
   "name": "python",
   "nbconvert_exporter": "python",
   "pygments_lexer": "ipython3",
   "version": "3.10.8"
  },
  "toc": {
   "base_numbering": 1,
   "nav_menu": {},
   "number_sections": true,
   "sideBar": true,
   "skip_h1_title": false,
   "title_cell": "Table of Contents",
   "title_sidebar": "Contents",
   "toc_cell": false,
   "toc_position": {},
   "toc_section_display": true,
   "toc_window_display": false
  },
  "varInspector": {
   "cols": {
    "lenName": 16,
    "lenType": 16,
    "lenVar": 40
   },
   "kernels_config": {
    "python": {
     "delete_cmd_postfix": "",
     "delete_cmd_prefix": "del ",
     "library": "var_list.py",
     "varRefreshCmd": "print(var_dic_list())"
    },
    "r": {
     "delete_cmd_postfix": ") ",
     "delete_cmd_prefix": "rm(",
     "library": "var_list.r",
     "varRefreshCmd": "cat(var_dic_list()) "
    }
   },
   "types_to_exclude": [
    "module",
    "function",
    "builtin_function_or_method",
    "instance",
    "_Feature"
   ],
   "window_display": false
  },
  "vscode": {
   "interpreter": {
    "hash": "31f2aee4e71d21fbe5cf8b01ff0e069b9275f58929596ceb00d14d90e3e16cd6"
   }
  }
 },
 "nbformat": 4,
 "nbformat_minor": 5
}
