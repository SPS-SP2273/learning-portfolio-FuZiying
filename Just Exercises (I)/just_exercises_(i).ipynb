{
 "cells": [
  {
   "cell_type": "markdown",
   "id": "123456",
   "metadata": {},
   "source": [
    "<div style=\"text-align:left;font-size:2em\"><span style=\"font-weight:bolder;font-size:1.25em\">SP2273 | Learning Portfolio</span><br><br><span style=\"font-weight:bold;color:darkred\">Just Exercises (I)</span></div>"
   ]
  },
  {
   "cell_type": "markdown",
   "id": "f6a6b2e6",
   "metadata": {},
   "source": [
    "## Exercise 1 :  F-strings to the rescue"
   ]
  },
  {
   "cell_type": "code",
   "execution_count": 1,
   "id": "197c16d2",
   "metadata": {},
   "outputs": [
    {
     "name": "stdout",
     "output_type": "stream",
     "text": [
      "00001\n",
      "00002\n",
      "00003\n",
      "00004\n",
      "00005\n",
      "00006\n",
      "00007\n",
      "00008\n",
      "00009\n",
      "00010\n"
     ]
    }
   ],
   "source": [
    "#Q1\n",
    "for i in range (1,11):\n",
    "    print(f\"{i:>05.0f}\")"
   ]
  },
  {
   "cell_type": "code",
   "execution_count": 2,
   "id": "347e7f41",
   "metadata": {},
   "outputs": [
    {
     "name": "stdout",
     "output_type": "stream",
     "text": [
      "001          +\n",
      "002         ++\n",
      "003        +++\n",
      "004       ++++\n",
      "005      +++++\n",
      "006     ++++++\n",
      "007    +++++++\n",
      "008   ++++++++\n",
      "009  +++++++++\n",
      "010 ++++++++++\n"
     ]
    }
   ],
   "source": [
    "#Q2\n",
    "for i in range (1,11):\n",
    "    print(f\"{i:>03.0f}\"+\" \"*(11-i)+\"+\"*(i))"
   ]
  },
  {
   "cell_type": "code",
   "execution_count": 1,
   "id": "e5d58590",
   "metadata": {},
   "outputs": [
    {
     "name": "stdout",
     "output_type": "stream",
     "text": [
      "001 -+++++++++\n",
      "002 --++++++++\n",
      "003 ---+++++++\n",
      "004 ----++++++\n",
      "005 -----+++++\n",
      "006 ------++++\n",
      "007 -------+++\n",
      "008 --------++\n",
      "009 ---------+\n",
      "010 ----------\n"
     ]
    }
   ],
   "source": [
    "#Q3\n",
    "for i in range (1,11):\n",
    "    print(f\"{i:>03.0f}\"+\" \"+\"-\"*(i)+\"+\"*(10-i))"
   ]
  },
  {
   "cell_type": "code",
   "execution_count": 3,
   "id": "540a03b8",
   "metadata": {},
   "outputs": [
    {
     "data": {
      "text/plain": [
       "[10, 11, 12, 20, 22, 24, 30, 33, 36]"
      ]
     },
     "execution_count": 3,
     "metadata": {},
     "output_type": "execute_result"
    }
   ],
   "source": [
    "test = []\n",
    "x = [1, 2, 3]\n",
    "y = [10, 11, 12]\n",
    "for i in x:\n",
    "    for j in y:\n",
    "        test.append(i*j)\n",
    "test"
   ]
  },
  {
   "cell_type": "code",
   "execution_count": 14,
   "id": "5cc194e5",
   "metadata": {},
   "outputs": [
    {
     "data": {
      "text/plain": [
       "['bruce_exploits.txt',\n",
       " 'bruce_enemies.txt',\n",
       " 'bruce_friends.txt',\n",
       " 'natasha_exploits.txt',\n",
       " 'natasha_enemies.txt',\n",
       " 'natasha_friends.txt',\n",
       " 'tony_exploits.txt',\n",
       " 'tony_enemies.txt',\n",
       " 'tony_friends.txt']"
      ]
     },
     "execution_count": 14,
     "metadata": {},
     "output_type": "execute_result"
    }
   ],
   "source": [
    "#Q4\n",
    "q4_list=[]\n",
    "names=[\"bruce\",\"natasha\",\"tony\"]\n",
    "category={\"_exploits.txt\",\"_enemies.txt\",\"_friends.txt\"}\n",
    "\n",
    "for i in names:\n",
    "    for j in category:\n",
    "        q4_list.append(i+j)\n",
    "        \n",
    "q4_list\n",
    "        "
   ]
  },
  {
   "cell_type": "code",
   "execution_count": 8,
   "id": "8ec46e1a",
   "metadata": {},
   "outputs": [
    {
     "data": {
      "text/plain": [
       "['data_sg_exp-01_trail-001.txt',\n",
       " 'data_sg_exp-01_trail-002.txt',\n",
       " 'data_sg_exp-01_trail-003.txt',\n",
       " 'data_sg_exp-01_trail-004.txt',\n",
       " 'data_sg_exp-01_trail-005.txt',\n",
       " 'data_sg_exp-01_trail-006.txt',\n",
       " 'data_sg_exp-01_trail-007.txt',\n",
       " 'data_sg_exp-01_trail-008.txt',\n",
       " 'data_sg_exp-01_trail-009.txt',\n",
       " 'data_sg_exp-01_trail-010.txt',\n",
       " 'data_sg_exp-01_trail-011.txt',\n",
       " 'data_sg_exp-01_trail-012.txt',\n",
       " 'data_sg_exp-01_trail-013.txt',\n",
       " 'data_sg_exp-01_trail-014.txt',\n",
       " 'data_sg_exp-01_trail-015.txt',\n",
       " 'data_sg_exp-01_trail-016.txt',\n",
       " 'data_sg_exp-01_trail-017.txt',\n",
       " 'data_sg_exp-01_trail-018.txt',\n",
       " 'data_sg_exp-01_trail-019.txt',\n",
       " 'data_sg_exp-01_trail-020.txt',\n",
       " 'data_sg_exp-01_trail-021.txt',\n",
       " 'data_sg_exp-01_trail-022.txt',\n",
       " 'data_sg_exp-01_trail-023.txt',\n",
       " 'data_sg_exp-01_trail-024.txt',\n",
       " 'data_sg_exp-01_trail-025.txt',\n",
       " 'data_sg_exp-01_trail-026.txt',\n",
       " 'data_sg_exp-01_trail-027.txt',\n",
       " 'data_sg_exp-01_trail-028.txt',\n",
       " 'data_sg_exp-01_trail-029.txt',\n",
       " 'data_sg_exp-01_trail-030.txt',\n",
       " 'data_sg_exp-01_trail-031.txt',\n",
       " 'data_sg_exp-01_trail-032.txt',\n",
       " 'data_sg_exp-01_trail-033.txt',\n",
       " 'data_sg_exp-01_trail-034.txt',\n",
       " 'data_sg_exp-01_trail-035.txt',\n",
       " 'data_sg_exp-01_trail-036.txt',\n",
       " 'data_sg_exp-01_trail-037.txt',\n",
       " 'data_sg_exp-01_trail-038.txt',\n",
       " 'data_sg_exp-01_trail-039.txt',\n",
       " 'data_sg_exp-01_trail-040.txt',\n",
       " 'data_sg_exp-01_trail-041.txt',\n",
       " 'data_sg_exp-01_trail-042.txt',\n",
       " 'data_sg_exp-01_trail-043.txt',\n",
       " 'data_sg_exp-01_trail-044.txt',\n",
       " 'data_sg_exp-01_trail-045.txt',\n",
       " 'data_sg_exp-01_trail-046.txt',\n",
       " 'data_sg_exp-01_trail-047.txt',\n",
       " 'data_sg_exp-01_trail-048.txt',\n",
       " 'data_sg_exp-01_trail-049.txt',\n",
       " 'data_sg_exp-01_trail-050.txt',\n",
       " 'data_sg_exp-02_trail-001.txt',\n",
       " 'data_sg_exp-02_trail-002.txt',\n",
       " 'data_sg_exp-02_trail-003.txt',\n",
       " 'data_sg_exp-02_trail-004.txt',\n",
       " 'data_sg_exp-02_trail-005.txt',\n",
       " 'data_sg_exp-02_trail-006.txt',\n",
       " 'data_sg_exp-02_trail-007.txt',\n",
       " 'data_sg_exp-02_trail-008.txt',\n",
       " 'data_sg_exp-02_trail-009.txt',\n",
       " 'data_sg_exp-02_trail-010.txt',\n",
       " 'data_sg_exp-02_trail-011.txt',\n",
       " 'data_sg_exp-02_trail-012.txt',\n",
       " 'data_sg_exp-02_trail-013.txt',\n",
       " 'data_sg_exp-02_trail-014.txt',\n",
       " 'data_sg_exp-02_trail-015.txt',\n",
       " 'data_sg_exp-02_trail-016.txt',\n",
       " 'data_sg_exp-02_trail-017.txt',\n",
       " 'data_sg_exp-02_trail-018.txt',\n",
       " 'data_sg_exp-02_trail-019.txt',\n",
       " 'data_sg_exp-02_trail-020.txt',\n",
       " 'data_sg_exp-02_trail-021.txt',\n",
       " 'data_sg_exp-02_trail-022.txt',\n",
       " 'data_sg_exp-02_trail-023.txt',\n",
       " 'data_sg_exp-02_trail-024.txt',\n",
       " 'data_sg_exp-02_trail-025.txt',\n",
       " 'data_sg_exp-02_trail-026.txt',\n",
       " 'data_sg_exp-02_trail-027.txt',\n",
       " 'data_sg_exp-02_trail-028.txt',\n",
       " 'data_sg_exp-02_trail-029.txt',\n",
       " 'data_sg_exp-02_trail-030.txt',\n",
       " 'data_sg_exp-02_trail-031.txt',\n",
       " 'data_sg_exp-02_trail-032.txt',\n",
       " 'data_sg_exp-02_trail-033.txt',\n",
       " 'data_sg_exp-02_trail-034.txt',\n",
       " 'data_sg_exp-02_trail-035.txt',\n",
       " 'data_sg_exp-02_trail-036.txt',\n",
       " 'data_sg_exp-02_trail-037.txt',\n",
       " 'data_sg_exp-02_trail-038.txt',\n",
       " 'data_sg_exp-02_trail-039.txt',\n",
       " 'data_sg_exp-02_trail-040.txt',\n",
       " 'data_sg_exp-02_trail-041.txt',\n",
       " 'data_sg_exp-02_trail-042.txt',\n",
       " 'data_sg_exp-02_trail-043.txt',\n",
       " 'data_sg_exp-02_trail-044.txt',\n",
       " 'data_sg_exp-02_trail-045.txt',\n",
       " 'data_sg_exp-02_trail-046.txt',\n",
       " 'data_sg_exp-02_trail-047.txt',\n",
       " 'data_sg_exp-02_trail-048.txt',\n",
       " 'data_sg_exp-02_trail-049.txt',\n",
       " 'data_sg_exp-02_trail-050.txt',\n",
       " 'data_sg_exp-03_trail-001.txt',\n",
       " 'data_sg_exp-03_trail-002.txt',\n",
       " 'data_sg_exp-03_trail-003.txt',\n",
       " 'data_sg_exp-03_trail-004.txt',\n",
       " 'data_sg_exp-03_trail-005.txt',\n",
       " 'data_sg_exp-03_trail-006.txt',\n",
       " 'data_sg_exp-03_trail-007.txt',\n",
       " 'data_sg_exp-03_trail-008.txt',\n",
       " 'data_sg_exp-03_trail-009.txt',\n",
       " 'data_sg_exp-03_trail-010.txt',\n",
       " 'data_sg_exp-03_trail-011.txt',\n",
       " 'data_sg_exp-03_trail-012.txt',\n",
       " 'data_sg_exp-03_trail-013.txt',\n",
       " 'data_sg_exp-03_trail-014.txt',\n",
       " 'data_sg_exp-03_trail-015.txt',\n",
       " 'data_sg_exp-03_trail-016.txt',\n",
       " 'data_sg_exp-03_trail-017.txt',\n",
       " 'data_sg_exp-03_trail-018.txt',\n",
       " 'data_sg_exp-03_trail-019.txt',\n",
       " 'data_sg_exp-03_trail-020.txt',\n",
       " 'data_sg_exp-03_trail-021.txt',\n",
       " 'data_sg_exp-03_trail-022.txt',\n",
       " 'data_sg_exp-03_trail-023.txt',\n",
       " 'data_sg_exp-03_trail-024.txt',\n",
       " 'data_sg_exp-03_trail-025.txt',\n",
       " 'data_sg_exp-03_trail-026.txt',\n",
       " 'data_sg_exp-03_trail-027.txt',\n",
       " 'data_sg_exp-03_trail-028.txt',\n",
       " 'data_sg_exp-03_trail-029.txt',\n",
       " 'data_sg_exp-03_trail-030.txt',\n",
       " 'data_sg_exp-03_trail-031.txt',\n",
       " 'data_sg_exp-03_trail-032.txt',\n",
       " 'data_sg_exp-03_trail-033.txt',\n",
       " 'data_sg_exp-03_trail-034.txt',\n",
       " 'data_sg_exp-03_trail-035.txt',\n",
       " 'data_sg_exp-03_trail-036.txt',\n",
       " 'data_sg_exp-03_trail-037.txt',\n",
       " 'data_sg_exp-03_trail-038.txt',\n",
       " 'data_sg_exp-03_trail-039.txt',\n",
       " 'data_sg_exp-03_trail-040.txt',\n",
       " 'data_sg_exp-03_trail-041.txt',\n",
       " 'data_sg_exp-03_trail-042.txt',\n",
       " 'data_sg_exp-03_trail-043.txt',\n",
       " 'data_sg_exp-03_trail-044.txt',\n",
       " 'data_sg_exp-03_trail-045.txt',\n",
       " 'data_sg_exp-03_trail-046.txt',\n",
       " 'data_sg_exp-03_trail-047.txt',\n",
       " 'data_sg_exp-03_trail-048.txt',\n",
       " 'data_sg_exp-03_trail-049.txt',\n",
       " 'data_sg_exp-03_trail-050.txt',\n",
       " 'data_gb_exp-01_trail-001.txt',\n",
       " 'data_gb_exp-01_trail-002.txt',\n",
       " 'data_gb_exp-01_trail-003.txt',\n",
       " 'data_gb_exp-01_trail-004.txt',\n",
       " 'data_gb_exp-01_trail-005.txt',\n",
       " 'data_gb_exp-01_trail-006.txt',\n",
       " 'data_gb_exp-01_trail-007.txt',\n",
       " 'data_gb_exp-01_trail-008.txt',\n",
       " 'data_gb_exp-01_trail-009.txt',\n",
       " 'data_gb_exp-01_trail-010.txt',\n",
       " 'data_gb_exp-01_trail-011.txt',\n",
       " 'data_gb_exp-01_trail-012.txt',\n",
       " 'data_gb_exp-01_trail-013.txt',\n",
       " 'data_gb_exp-01_trail-014.txt',\n",
       " 'data_gb_exp-01_trail-015.txt',\n",
       " 'data_gb_exp-01_trail-016.txt',\n",
       " 'data_gb_exp-01_trail-017.txt',\n",
       " 'data_gb_exp-01_trail-018.txt',\n",
       " 'data_gb_exp-01_trail-019.txt',\n",
       " 'data_gb_exp-01_trail-020.txt',\n",
       " 'data_gb_exp-01_trail-021.txt',\n",
       " 'data_gb_exp-01_trail-022.txt',\n",
       " 'data_gb_exp-01_trail-023.txt',\n",
       " 'data_gb_exp-01_trail-024.txt',\n",
       " 'data_gb_exp-01_trail-025.txt',\n",
       " 'data_gb_exp-01_trail-026.txt',\n",
       " 'data_gb_exp-01_trail-027.txt',\n",
       " 'data_gb_exp-01_trail-028.txt',\n",
       " 'data_gb_exp-01_trail-029.txt',\n",
       " 'data_gb_exp-01_trail-030.txt',\n",
       " 'data_gb_exp-01_trail-031.txt',\n",
       " 'data_gb_exp-01_trail-032.txt',\n",
       " 'data_gb_exp-01_trail-033.txt',\n",
       " 'data_gb_exp-01_trail-034.txt',\n",
       " 'data_gb_exp-01_trail-035.txt',\n",
       " 'data_gb_exp-01_trail-036.txt',\n",
       " 'data_gb_exp-01_trail-037.txt',\n",
       " 'data_gb_exp-01_trail-038.txt',\n",
       " 'data_gb_exp-01_trail-039.txt',\n",
       " 'data_gb_exp-01_trail-040.txt',\n",
       " 'data_gb_exp-01_trail-041.txt',\n",
       " 'data_gb_exp-01_trail-042.txt',\n",
       " 'data_gb_exp-01_trail-043.txt',\n",
       " 'data_gb_exp-01_trail-044.txt',\n",
       " 'data_gb_exp-01_trail-045.txt',\n",
       " 'data_gb_exp-01_trail-046.txt',\n",
       " 'data_gb_exp-01_trail-047.txt',\n",
       " 'data_gb_exp-01_trail-048.txt',\n",
       " 'data_gb_exp-01_trail-049.txt',\n",
       " 'data_gb_exp-01_trail-050.txt',\n",
       " 'data_gb_exp-02_trail-001.txt',\n",
       " 'data_gb_exp-02_trail-002.txt',\n",
       " 'data_gb_exp-02_trail-003.txt',\n",
       " 'data_gb_exp-02_trail-004.txt',\n",
       " 'data_gb_exp-02_trail-005.txt',\n",
       " 'data_gb_exp-02_trail-006.txt',\n",
       " 'data_gb_exp-02_trail-007.txt',\n",
       " 'data_gb_exp-02_trail-008.txt',\n",
       " 'data_gb_exp-02_trail-009.txt',\n",
       " 'data_gb_exp-02_trail-010.txt',\n",
       " 'data_gb_exp-02_trail-011.txt',\n",
       " 'data_gb_exp-02_trail-012.txt',\n",
       " 'data_gb_exp-02_trail-013.txt',\n",
       " 'data_gb_exp-02_trail-014.txt',\n",
       " 'data_gb_exp-02_trail-015.txt',\n",
       " 'data_gb_exp-02_trail-016.txt',\n",
       " 'data_gb_exp-02_trail-017.txt',\n",
       " 'data_gb_exp-02_trail-018.txt',\n",
       " 'data_gb_exp-02_trail-019.txt',\n",
       " 'data_gb_exp-02_trail-020.txt',\n",
       " 'data_gb_exp-02_trail-021.txt',\n",
       " 'data_gb_exp-02_trail-022.txt',\n",
       " 'data_gb_exp-02_trail-023.txt',\n",
       " 'data_gb_exp-02_trail-024.txt',\n",
       " 'data_gb_exp-02_trail-025.txt',\n",
       " 'data_gb_exp-02_trail-026.txt',\n",
       " 'data_gb_exp-02_trail-027.txt',\n",
       " 'data_gb_exp-02_trail-028.txt',\n",
       " 'data_gb_exp-02_trail-029.txt',\n",
       " 'data_gb_exp-02_trail-030.txt',\n",
       " 'data_gb_exp-02_trail-031.txt',\n",
       " 'data_gb_exp-02_trail-032.txt',\n",
       " 'data_gb_exp-02_trail-033.txt',\n",
       " 'data_gb_exp-02_trail-034.txt',\n",
       " 'data_gb_exp-02_trail-035.txt',\n",
       " 'data_gb_exp-02_trail-036.txt',\n",
       " 'data_gb_exp-02_trail-037.txt',\n",
       " 'data_gb_exp-02_trail-038.txt',\n",
       " 'data_gb_exp-02_trail-039.txt',\n",
       " 'data_gb_exp-02_trail-040.txt',\n",
       " 'data_gb_exp-02_trail-041.txt',\n",
       " 'data_gb_exp-02_trail-042.txt',\n",
       " 'data_gb_exp-02_trail-043.txt',\n",
       " 'data_gb_exp-02_trail-044.txt',\n",
       " 'data_gb_exp-02_trail-045.txt',\n",
       " 'data_gb_exp-02_trail-046.txt',\n",
       " 'data_gb_exp-02_trail-047.txt',\n",
       " 'data_gb_exp-02_trail-048.txt',\n",
       " 'data_gb_exp-02_trail-049.txt',\n",
       " 'data_gb_exp-02_trail-050.txt',\n",
       " 'data_gb_exp-03_trail-001.txt',\n",
       " 'data_gb_exp-03_trail-002.txt',\n",
       " 'data_gb_exp-03_trail-003.txt',\n",
       " 'data_gb_exp-03_trail-004.txt',\n",
       " 'data_gb_exp-03_trail-005.txt',\n",
       " 'data_gb_exp-03_trail-006.txt',\n",
       " 'data_gb_exp-03_trail-007.txt',\n",
       " 'data_gb_exp-03_trail-008.txt',\n",
       " 'data_gb_exp-03_trail-009.txt',\n",
       " 'data_gb_exp-03_trail-010.txt',\n",
       " 'data_gb_exp-03_trail-011.txt',\n",
       " 'data_gb_exp-03_trail-012.txt',\n",
       " 'data_gb_exp-03_trail-013.txt',\n",
       " 'data_gb_exp-03_trail-014.txt',\n",
       " 'data_gb_exp-03_trail-015.txt',\n",
       " 'data_gb_exp-03_trail-016.txt',\n",
       " 'data_gb_exp-03_trail-017.txt',\n",
       " 'data_gb_exp-03_trail-018.txt',\n",
       " 'data_gb_exp-03_trail-019.txt',\n",
       " 'data_gb_exp-03_trail-020.txt',\n",
       " 'data_gb_exp-03_trail-021.txt',\n",
       " 'data_gb_exp-03_trail-022.txt',\n",
       " 'data_gb_exp-03_trail-023.txt',\n",
       " 'data_gb_exp-03_trail-024.txt',\n",
       " 'data_gb_exp-03_trail-025.txt',\n",
       " 'data_gb_exp-03_trail-026.txt',\n",
       " 'data_gb_exp-03_trail-027.txt',\n",
       " 'data_gb_exp-03_trail-028.txt',\n",
       " 'data_gb_exp-03_trail-029.txt',\n",
       " 'data_gb_exp-03_trail-030.txt',\n",
       " 'data_gb_exp-03_trail-031.txt',\n",
       " 'data_gb_exp-03_trail-032.txt',\n",
       " 'data_gb_exp-03_trail-033.txt',\n",
       " 'data_gb_exp-03_trail-034.txt',\n",
       " 'data_gb_exp-03_trail-035.txt',\n",
       " 'data_gb_exp-03_trail-036.txt',\n",
       " 'data_gb_exp-03_trail-037.txt',\n",
       " 'data_gb_exp-03_trail-038.txt',\n",
       " 'data_gb_exp-03_trail-039.txt',\n",
       " 'data_gb_exp-03_trail-040.txt',\n",
       " 'data_gb_exp-03_trail-041.txt',\n",
       " 'data_gb_exp-03_trail-042.txt',\n",
       " 'data_gb_exp-03_trail-043.txt',\n",
       " 'data_gb_exp-03_trail-044.txt',\n",
       " 'data_gb_exp-03_trail-045.txt',\n",
       " 'data_gb_exp-03_trail-046.txt',\n",
       " 'data_gb_exp-03_trail-047.txt',\n",
       " 'data_gb_exp-03_trail-048.txt',\n",
       " 'data_gb_exp-03_trail-049.txt',\n",
       " 'data_gb_exp-03_trail-050.txt',\n",
       " 'data_us_exp01_trail-001.txt',\n",
       " 'data_us_exp01_trail-002.txt',\n",
       " 'data_us_exp01_trail-003.txt',\n",
       " 'data_us_exp01_trail-004.txt',\n",
       " 'data_us_exp01_trail-005.txt',\n",
       " 'data_us_exp01_trail-006.txt',\n",
       " 'data_us_exp01_trail-007.txt',\n",
       " 'data_us_exp01_trail-008.txt',\n",
       " 'data_us_exp01_trail-009.txt',\n",
       " 'data_us_exp01_trail-010.txt',\n",
       " 'data_us_exp01_trail-011.txt',\n",
       " 'data_us_exp01_trail-012.txt',\n",
       " 'data_us_exp01_trail-013.txt',\n",
       " 'data_us_exp01_trail-014.txt',\n",
       " 'data_us_exp01_trail-015.txt',\n",
       " 'data_us_exp01_trail-016.txt',\n",
       " 'data_us_exp01_trail-017.txt',\n",
       " 'data_us_exp01_trail-018.txt',\n",
       " 'data_us_exp01_trail-019.txt',\n",
       " 'data_us_exp01_trail-020.txt',\n",
       " 'data_us_exp01_trail-021.txt',\n",
       " 'data_us_exp01_trail-022.txt',\n",
       " 'data_us_exp01_trail-023.txt',\n",
       " 'data_us_exp01_trail-024.txt',\n",
       " 'data_us_exp01_trail-025.txt',\n",
       " 'data_us_exp01_trail-026.txt',\n",
       " 'data_us_exp01_trail-027.txt',\n",
       " 'data_us_exp01_trail-028.txt',\n",
       " 'data_us_exp01_trail-029.txt',\n",
       " 'data_us_exp01_trail-030.txt',\n",
       " 'data_us_exp01_trail-031.txt',\n",
       " 'data_us_exp01_trail-032.txt',\n",
       " 'data_us_exp01_trail-033.txt',\n",
       " 'data_us_exp01_trail-034.txt',\n",
       " 'data_us_exp01_trail-035.txt',\n",
       " 'data_us_exp01_trail-036.txt',\n",
       " 'data_us_exp01_trail-037.txt',\n",
       " 'data_us_exp01_trail-038.txt',\n",
       " 'data_us_exp01_trail-039.txt',\n",
       " 'data_us_exp01_trail-040.txt',\n",
       " 'data_us_exp01_trail-041.txt',\n",
       " 'data_us_exp01_trail-042.txt',\n",
       " 'data_us_exp01_trail-043.txt',\n",
       " 'data_us_exp01_trail-044.txt',\n",
       " 'data_us_exp01_trail-045.txt',\n",
       " 'data_us_exp01_trail-046.txt',\n",
       " 'data_us_exp01_trail-047.txt',\n",
       " 'data_us_exp01_trail-048.txt',\n",
       " 'data_us_exp01_trail-049.txt',\n",
       " 'data_us_exp01_trail-050.txt',\n",
       " 'data_us_exp02_trail-001.txt',\n",
       " 'data_us_exp02_trail-002.txt',\n",
       " 'data_us_exp02_trail-003.txt',\n",
       " 'data_us_exp02_trail-004.txt',\n",
       " 'data_us_exp02_trail-005.txt',\n",
       " 'data_us_exp02_trail-006.txt',\n",
       " 'data_us_exp02_trail-007.txt',\n",
       " 'data_us_exp02_trail-008.txt',\n",
       " 'data_us_exp02_trail-009.txt',\n",
       " 'data_us_exp02_trail-010.txt',\n",
       " 'data_us_exp02_trail-011.txt',\n",
       " 'data_us_exp02_trail-012.txt',\n",
       " 'data_us_exp02_trail-013.txt',\n",
       " 'data_us_exp02_trail-014.txt',\n",
       " 'data_us_exp02_trail-015.txt',\n",
       " 'data_us_exp02_trail-016.txt',\n",
       " 'data_us_exp02_trail-017.txt',\n",
       " 'data_us_exp02_trail-018.txt',\n",
       " 'data_us_exp02_trail-019.txt',\n",
       " 'data_us_exp02_trail-020.txt',\n",
       " 'data_us_exp02_trail-021.txt',\n",
       " 'data_us_exp02_trail-022.txt',\n",
       " 'data_us_exp02_trail-023.txt',\n",
       " 'data_us_exp02_trail-024.txt',\n",
       " 'data_us_exp02_trail-025.txt',\n",
       " 'data_us_exp02_trail-026.txt',\n",
       " 'data_us_exp02_trail-027.txt',\n",
       " 'data_us_exp02_trail-028.txt',\n",
       " 'data_us_exp02_trail-029.txt',\n",
       " 'data_us_exp02_trail-030.txt',\n",
       " 'data_us_exp02_trail-031.txt',\n",
       " 'data_us_exp02_trail-032.txt',\n",
       " 'data_us_exp02_trail-033.txt',\n",
       " 'data_us_exp02_trail-034.txt',\n",
       " 'data_us_exp02_trail-035.txt',\n",
       " 'data_us_exp02_trail-036.txt',\n",
       " 'data_us_exp02_trail-037.txt',\n",
       " 'data_us_exp02_trail-038.txt',\n",
       " 'data_us_exp02_trail-039.txt',\n",
       " 'data_us_exp02_trail-040.txt',\n",
       " 'data_us_exp02_trail-041.txt',\n",
       " 'data_us_exp02_trail-042.txt',\n",
       " 'data_us_exp02_trail-043.txt',\n",
       " 'data_us_exp02_trail-044.txt',\n",
       " 'data_us_exp02_trail-045.txt',\n",
       " 'data_us_exp02_trail-046.txt',\n",
       " 'data_us_exp02_trail-047.txt',\n",
       " 'data_us_exp02_trail-048.txt',\n",
       " 'data_us_exp02_trail-049.txt',\n",
       " 'data_us_exp02_trail-050.txt',\n",
       " 'data_us_exp03_trail-001.txt',\n",
       " 'data_us_exp03_trail-002.txt',\n",
       " 'data_us_exp03_trail-003.txt',\n",
       " 'data_us_exp03_trail-004.txt',\n",
       " 'data_us_exp03_trail-005.txt',\n",
       " 'data_us_exp03_trail-006.txt',\n",
       " 'data_us_exp03_trail-007.txt',\n",
       " 'data_us_exp03_trail-008.txt',\n",
       " 'data_us_exp03_trail-009.txt',\n",
       " 'data_us_exp03_trail-010.txt',\n",
       " 'data_us_exp03_trail-011.txt',\n",
       " 'data_us_exp03_trail-012.txt',\n",
       " 'data_us_exp03_trail-013.txt',\n",
       " 'data_us_exp03_trail-014.txt',\n",
       " 'data_us_exp03_trail-015.txt',\n",
       " 'data_us_exp03_trail-016.txt',\n",
       " 'data_us_exp03_trail-017.txt',\n",
       " 'data_us_exp03_trail-018.txt',\n",
       " 'data_us_exp03_trail-019.txt',\n",
       " 'data_us_exp03_trail-020.txt',\n",
       " 'data_us_exp03_trail-021.txt',\n",
       " 'data_us_exp03_trail-022.txt',\n",
       " 'data_us_exp03_trail-023.txt',\n",
       " 'data_us_exp03_trail-024.txt',\n",
       " 'data_us_exp03_trail-025.txt',\n",
       " 'data_us_exp03_trail-026.txt',\n",
       " 'data_us_exp03_trail-027.txt',\n",
       " 'data_us_exp03_trail-028.txt',\n",
       " 'data_us_exp03_trail-029.txt',\n",
       " 'data_us_exp03_trail-030.txt',\n",
       " 'data_us_exp03_trail-031.txt',\n",
       " 'data_us_exp03_trail-032.txt',\n",
       " 'data_us_exp03_trail-033.txt',\n",
       " 'data_us_exp03_trail-034.txt',\n",
       " 'data_us_exp03_trail-035.txt',\n",
       " 'data_us_exp03_trail-036.txt',\n",
       " 'data_us_exp03_trail-037.txt',\n",
       " 'data_us_exp03_trail-038.txt',\n",
       " 'data_us_exp03_trail-039.txt',\n",
       " 'data_us_exp03_trail-040.txt',\n",
       " 'data_us_exp03_trail-041.txt',\n",
       " 'data_us_exp03_trail-042.txt',\n",
       " 'data_us_exp03_trail-043.txt',\n",
       " 'data_us_exp03_trail-044.txt',\n",
       " 'data_us_exp03_trail-045.txt',\n",
       " 'data_us_exp03_trail-046.txt',\n",
       " 'data_us_exp03_trail-047.txt',\n",
       " 'data_us_exp03_trail-048.txt',\n",
       " 'data_us_exp03_trail-049.txt',\n",
       " 'data_us_exp03_trail-050.txt']"
      ]
     },
     "execution_count": 8,
     "metadata": {},
     "output_type": "execute_result"
    }
   ],
   "source": [
    "q5_list=[]\n",
    "\n",
    "fore=[\"data_sg_exp-\",\"data_gb_exp-\",\"data_us_exp\"]\n",
    "mid=[\"_trail-\"]\n",
    "last=[\".txt\"]\n",
    "\n",
    "numlist1=[]\n",
    "for i in range (1,4):\n",
    "    numlist1.append(f\"{i:>02.0f}\")\n",
    "    \n",
    "numlist2=[]\n",
    "for i in range (1,51):\n",
    "    numlist2.append(f\"{i:>03.0f}\")\n",
    "\n",
    "for q in fore:\n",
    "    for w in numlist1:\n",
    "        for e in mid:\n",
    "            for r in numlist2:\n",
    "                for t in last:\n",
    "                    q5_list.append(q+w+e+r+t)\n",
    "q5_list"
   ]
  },
  {
   "cell_type": "markdown",
   "id": "d82e65a6",
   "metadata": {},
   "source": [
    "## Exercise 2 :  Tutti frutti"
   ]
  },
  {
   "cell_type": "code",
   "execution_count": null,
   "id": "a85ddb96",
   "metadata": {},
   "outputs": [],
   "source": [
    "#Q1 \n",
    "#Included?"
   ]
  },
  {
   "cell_type": "code",
   "execution_count": 15,
   "id": "24254809",
   "metadata": {},
   "outputs": [
    {
     "data": {
      "text/plain": [
       "['ae', 'ba', 'pe', 'jt', 'ph', 'dn', 'wn', 'mo', 'sy', 'pt']"
      ]
     },
     "execution_count": 15,
     "metadata": {},
     "output_type": "execute_result"
    }
   ],
   "source": [
    "#Q2\n",
    "\n",
    "e2q2_list=[]\n",
    "fruits = [\"apple\", \"banana\", \"pineapple\", \"jackfruit\",\n",
    "        \"peach\", \"durian\", \"watermelon\", \"mango\",\n",
    "        \"strawberry\", \"passionfruit\"]\n",
    "for fruit in fruits:\n",
    "    e2q1_list.append(fruit[0] + fruit [-1])\n",
    "\n",
    "e2q1_list\n"
   ]
  },
  {
   "cell_type": "code",
   "execution_count": 23,
   "id": "89860da9",
   "metadata": {},
   "outputs": [
    {
     "data": {
      "text/plain": [
       "['apple',\n",
       " 'banana',\n",
       " 'PINEAPPLE',\n",
       " 'jackfruit',\n",
       " 'PEACH',\n",
       " 'durian',\n",
       " 'watermelon',\n",
       " 'mango',\n",
       " 'strawberry',\n",
       " 'PASSIONFRUIT']"
      ]
     },
     "execution_count": 23,
     "metadata": {},
     "output_type": "execute_result"
    }
   ],
   "source": [
    "#Q3\n",
    "e2q3_list=[]\n",
    "\n",
    "fruits = [\"apple\", \"banana\", \"pineapple\", \"jackfruit\",\n",
    "        \"peach\", \"durian\", \"watermelon\", \"mango\",\n",
    "        \"strawberry\", \"passionfruit\"]\n",
    "\n",
    "for fruit in fruits:\n",
    "    if fruit[0]=='p':\n",
    "        e2q3_list.append(fruit.upper())\n",
    "    else:\n",
    "        e2q3_list.append(fruit.lower())\n",
    "e2q3_list\n",
    "#make into a list"
   ]
  },
  {
   "cell_type": "code",
   "execution_count": 5,
   "id": "8559514a",
   "metadata": {},
   "outputs": [
    {
     "name": "stdout",
     "output_type": "stream",
     "text": [
      "[10, 11, 12, 1, 2, 3]\n"
     ]
    }
   ],
   "source": [
    "x = [1, 2, 3]\n",
    "y = [10, 11, 12]\n",
    "x = y + x #appendx+=y\n",
    "print(x)"
   ]
  },
  {
   "cell_type": "code",
   "execution_count": 16,
   "id": "c78f89f1",
   "metadata": {},
   "outputs": [
    {
     "name": "stdout",
     "output_type": "stream",
     "text": [
      "['apple', 'banana', 'pineapple', 'jackfruit', 'peach', 'durian', 'watermelon', 'mango', 'strawberry', 'passionfruit', 'dragon fruit', 'apricots', 'oranges']\n"
     ]
    }
   ],
   "source": [
    "#Q4.1\n",
    "\n",
    "fruits = [\"apple\", \"banana\", \"pineapple\", \"jackfruit\",\n",
    "        \"peach\", \"durian\", \"watermelon\", \"mango\",\n",
    "        \"strawberry\", \"passionfruit\"]\n",
    "\n",
    "more_fruits=[\"dragon fruit\", \"apricots\", \"oranges\"]\n",
    "\n",
    "fruits+=more_fruits\n",
    "\n",
    "print(fruits)\n"
   ]
  },
  {
   "cell_type": "code",
   "execution_count": 17,
   "id": "5b2a2fec",
   "metadata": {},
   "outputs": [
    {
     "name": "stdout",
     "output_type": "stream",
     "text": [
      "['dragon fruit', 'apricots', 'oranges', 'apple', 'banana', 'pineapple', 'jackfruit', 'peach', 'durian', 'watermelon', 'mango', 'strawberry', 'passionfruit']\n"
     ]
    }
   ],
   "source": [
    "#Q4.2\n",
    "\n",
    "fruits = [\"apple\", \"banana\", \"pineapple\", \"jackfruit\",\n",
    "        \"peach\", \"durian\", \"watermelon\", \"mango\",\n",
    "        \"strawberry\", \"passionfruit\"]\n",
    "\n",
    "more_fruits=[\"dragon fruit\", \"apricots\", \"oranges\"]\n",
    "\n",
    "fruits=more_fruits+fruits\n",
    "\n",
    "print(fruits)\n"
   ]
  },
  {
   "cell_type": "code",
   "execution_count": 25,
   "id": "33c0f69f",
   "metadata": {},
   "outputs": [
    {
     "name": "stdout",
     "output_type": "stream",
     "text": [
      "['apple', 'banana', 'pineapple', 'jackfruit', 'peach', ['dragon fruit', 'apricots', 'oranges'], 'durian', 'watermelon', 'mango', 'strawberry', 'passionfruit']\n"
     ]
    }
   ],
   "source": [
    "#Q4.3\n",
    "fruits = [\"apple\", \"banana\", \"pineapple\", \"jackfruit\",\n",
    "        \"peach\", \"durian\", \"watermelon\", \"mango\",\n",
    "        \"strawberry\", \"passionfruit\"]\n",
    "\n",
    "more_fruits=[\"dragon fruit\", \"apricots\", \"oranges\"]\n",
    "\n",
    "midpoint=len(fruits)/2\n",
    "\n",
    "midpoint=int(midpoint)\n",
    "\n",
    "fruits.insert(midpoint,more_fruits)\n",
    "\n",
    "print(fruits) \n",
    "#for loop\n",
    "#unpack first"
   ]
  },
  {
   "cell_type": "code",
   "execution_count": 25,
   "id": "9bbc6056",
   "metadata": {},
   "outputs": [
    {
     "name": "stdout",
     "output_type": "stream",
     "text": [
      "['apple', 'banana', 'pineapple', 'jackfruit', 'peach', ['dragon fruit', 'apricots', 'oranges'], 'durian', 'watermelon', 'mango', 'strawberry', 'passionfruit']\n"
     ]
    }
   ],
   "source": [
    "#Q4.3\n",
    "fruits = [\"apple\", \"banana\", \"pineapple\", \"jackfruit\",\n",
    "        \"peach\", \"durian\", \"watermelon\", \"mango\",\n",
    "        \"strawberry\", \"passionfruit\"]\n",
    "\n",
    "more_fruits=[\"dragon fruit\", \"apricots\", \"oranges\"]\n",
    "\n",
    "midpoint=len(fruits)/2\n",
    "\n",
    "midpoint=int(midpoint)\n",
    "\n",
    "fruits.insert(midpoint,more_fruits)\n",
    "\n",
    "print(fruits) \n",
    "#for loop\n",
    "#unpack first"
   ]
  },
  {
   "cell_type": "code",
   "execution_count": 9,
   "id": "e45a2eda",
   "metadata": {},
   "outputs": [
    {
     "name": "stdout",
     "output_type": "stream",
     "text": [
      "['apple', 'banana', 'pineapple', 'jackfruit', 'peach', 'oranges', 'apricots', 'dragon fruit', 'durian', 'watermelon', 'mango', 'strawberry', 'passionfruit']\n"
     ]
    }
   ],
   "source": [
    "#Q4.3\n",
    "fruits = [\"apple\", \"banana\", \"pineapple\", \"jackfruit\",\n",
    "        \"peach\", \"durian\", \"watermelon\", \"mango\",\n",
    "        \"strawberry\", \"passionfruit\"]\n",
    "\n",
    "more_fruits=[\"dragon fruit\", \"apricots\", \"oranges\"]\n",
    "\n",
    "x,y,z=more_fruits\n",
    "\n",
    "midpoint=len(fruits)/2\n",
    "\n",
    "midpoint=int(midpoint)\n",
    "\n",
    "fruits.insert(midpoint,x)\n",
    "fruits.insert(midpoint,y)\n",
    "fruits.insert(midpoint,z)\n",
    "\n",
    "print(fruits) \n",
    "\n",
    "#can use for loop?"
   ]
  },
  {
   "cell_type": "code",
   "execution_count": 1,
   "id": "3eafed56",
   "metadata": {},
   "outputs": [
    {
     "data": {
      "text/plain": [
       "['pineapple', 'jackfruit', 'watermelon', 'strawberry', 'passionfruit']"
      ]
     },
     "execution_count": 1,
     "metadata": {},
     "output_type": "execute_result"
    }
   ],
   "source": [
    "#Q5\n",
    "e2q5_list=[]\n",
    "fruits = [\"apple\", \"banana\", \"pineapple\", \"jackfruit\",\n",
    "        \"peach\", \"durian\", \"watermelon\", \"mango\",\n",
    "        \"strawberry\", \"passionfruit\"]\n",
    "\n",
    "for fruit in fruits:\n",
    "    if len(fruit)>8:\n",
    "        e2q5_list.append(fruit)\n",
    "    else:\n",
    "        exit()\n",
    "        \n",
    "e2q5_list\n"
   ]
  },
  {
   "cell_type": "code",
   "execution_count": 12,
   "id": "83620391",
   "metadata": {},
   "outputs": [
    {
     "data": {
      "text/plain": [
       "['pineapple', 'jackfruit', 'watermelon', 'strawberry', 'passionfruit']"
      ]
     },
     "execution_count": 12,
     "metadata": {},
     "output_type": "execute_result"
    }
   ],
   "source": [
    "#Q5\n",
    "fruits = [\"apple\", \"banana\", \"pineapple\", \"jackfruit\",\n",
    "        \"peach\", \"durian\", \"watermelon\", \"mango\",\n",
    "        \"strawberry\", \"passionfruit\"]\n",
    "\n",
    "[fruit for fruit in fruits if len(fruit)>8]"
   ]
  },
  {
   "cell_type": "markdown",
   "id": "d14e5a88",
   "metadata": {},
   "source": [
    "## Exercise 3 :  Ciao Fibonacci"
   ]
  },
  {
   "cell_type": "code",
   "execution_count": 2,
   "id": "860c8948",
   "metadata": {},
   "outputs": [
    {
     "data": {
      "text/plain": [
       "[0, 1, 1, 2, 3, 5, 8, 13, 21, 34, 55, 89, 144, 233, 377]"
      ]
     },
     "execution_count": 2,
     "metadata": {},
     "output_type": "execute_result"
    }
   ],
   "source": [
    "fibonacci=[0, 1]\n",
    "\n",
    "for i in range(13):\n",
    "    new_num = fibonacci[-1] + fibonacci[-2]\n",
    "    fibonacci.append(new_num)\n",
    "fibonacci"
   ]
  },
  {
   "cell_type": "markdown",
   "id": "ba34caed",
   "metadata": {},
   "source": [
    "## Exercise 4 :  A function for Fibonacci"
   ]
  },
  {
   "cell_type": "code",
   "execution_count": 85,
   "id": "3f474d6e",
   "metadata": {},
   "outputs": [
    {
     "data": {
      "text/plain": [
       "[0, 1, 1]"
      ]
     },
     "execution_count": 85,
     "metadata": {},
     "output_type": "execute_result"
    }
   ],
   "source": [
    "def fibonacci(n):\n",
    "    if n>2:\n",
    "        fibonacci_start=[0,1]\n",
    "        for i in range (n-2):\n",
    "            new_num = fibonacci_start[-1] + fibonacci_start[-2]\n",
    "            fibonacci_start.append(new_num)\n",
    "        return fibonacci_start\n",
    "    else:\n",
    "        return \"undefined\"\n",
    "\n",
    "fibonacci(3)\n",
    "    \n",
    "        "
   ]
  },
  {
   "cell_type": "markdown",
   "id": "852bfbdf",
   "metadata": {},
   "source": [
    "## Exercise 5 :  max_info() without NumPy"
   ]
  },
  {
   "cell_type": "code",
   "execution_count": 64,
   "id": "6c334418",
   "metadata": {},
   "outputs": [],
   "source": [
    "numbers = [40, 27, 83, 44, 74, 51, 76, 77, 10, 49]\n",
    "\n",
    "def max_info(numbers):\n",
    "    my_max=numbers[0]\n",
    "    for number in numbers:\n",
    "        if my_max<number:\n",
    "            my_max=number\n",
    "    my_max_index=numbers.index(my_max)\n",
    "    return my_max,my_max_index\n",
    "        \n",
    "        \n",
    "        \n",
    "        \n"
   ]
  },
  {
   "cell_type": "code",
   "execution_count": 77,
   "id": "f5b43ac4",
   "metadata": {},
   "outputs": [],
   "source": [
    "numbers = [40, 27, 83, 44, 74, 51, 76, 77, 10, 49]\n",
    "\n",
    "def max_info(numbers):\n",
    "    my_max=numbers[0]\n",
    "    my_max_index=0\n",
    "    for i,number in enumerate(numbers):\n",
    "        if my_max<number:\n",
    "            my_max=number\n",
    "            my_max_index=i\n",
    "    return my_max,my_max_index\n",
    "        \n",
    "        \n",
    "        \n",
    "        \n"
   ]
  },
  {
   "cell_type": "code",
   "execution_count": 78,
   "id": "2c2c7e5e",
   "metadata": {},
   "outputs": [
    {
     "data": {
      "text/plain": [
       "(83, 2)"
      ]
     },
     "execution_count": 78,
     "metadata": {},
     "output_type": "execute_result"
    }
   ],
   "source": [
    "max_info(numbers)"
   ]
  },
  {
   "cell_type": "markdown",
   "id": "f3add8d6",
   "metadata": {},
   "source": [
    "## Exercise 6 :  Take count"
   ]
  },
  {
   "cell_type": "code",
   "execution_count": 80,
   "id": "78949aa0",
   "metadata": {},
   "outputs": [
    {
     "data": {
      "text/plain": [
       "254"
      ]
     },
     "execution_count": 80,
     "metadata": {},
     "output_type": "execute_result"
    }
   ],
   "source": [
    "DNA=\"AGGCAAGAAGCTAGAATTCTGGCCTGAGTATCTCAGTACAGGCGCAGTCGAATCTTCCGGAATCACATTGCTCGCGCTTAAACCCGCTCTAAACCTTTGAGTAATTCGACGACATTGGGTTCCCTCCGACGCTGTCTGACAACTCTTTAAGATCCTTGGCACGATGTCGATAGACATTGTCCCTGATGACGCCTCACAAGGTAACCTGGCTCTAGTAGGGTGGTCTTTGCTGCGGAACTTACCACCTGGTGGATCCAAGCACCAGAGGAGTTCGAAGAGGCTGGGGTACCCCCTATTTAGGAAGGGCGAGACTACGGTCACAAATTCCAAATGGCTTCCCTCGATTCATGACGCCAGAATGCCTGGCTGTGCCAATTTGTCGCCTTGCGTCGTTCTGTCAATCTTTACTCGTGTCGTGTTGTGATAAATGACAAACCCTGCACAACGTAGGGCTCACACAAGGGAATCTAGAGTATCCGATACAGGGAGCTTTAGCTTCCGTCCCTTATAGCCTGCCATATTCTTGCGGTAGCACGAGCCTCAGATCTTCTCACTCCGGAAATGGGAGCTTCGACGGTCAAGGGCTAAGACGTCTTCGGGAGAAATACCTAGGCGATGACCCTGAGTGGTTTTCCGCGTATAACTCATCCTGGTTGCAAATGATTACCGTTATAGCCTGGGGATATGCCTCAATTCCGAACCCAGGAGCATCACTCGAGCAATAGCGGTAAAGGAGGCTATTAGCAAAATTGTCACGATAAGCGCCGTTGTAGTGAAATTAAGATACATACATCGTTTAGCACATCACTCTCACGGCGTCTAGAAGCTGATCTTCATATGCTGACTCAGAAGGCTCGGATAATAGAGGACGAAGGTAGTTTACTCATCGCTGCCCCGACTATTACGTGTGCATGATAAAGTCTGACCCTGACGTTCCCAAGCCGAGGCAGAGGGGTTTTACGCTGAATGTCCGCTCTCTGTCGGATGATTTCGGAAGCTG\"\n",
    "e6_list=[]\n",
    "\n",
    "for base in DNA:\n",
    "    e6_list.append(base)    #Q1\n",
    "# Can use [*DNA]\n",
    "    \n",
    "len([base for base in e6_list if base == \"T\"]) #Q2&3\n"
   ]
  },
  {
   "cell_type": "code",
   "execution_count": 82,
   "id": "0d278f97",
   "metadata": {},
   "outputs": [
    {
     "data": {
      "text/plain": [
       "{'G': 249, 'A': 250, 'T': 254, 'C': 247}"
      ]
     },
     "execution_count": 82,
     "metadata": {},
     "output_type": "execute_result"
    }
   ],
   "source": [
    "#Q4\n",
    "DNA=\"AGGCAAGAAGCTAGAATTCTGGCCTGAGTATCTCAGTACAGGCGCAGTCGAATCTTCCGGAATCACATTGCTCGCGCTTAAACCCGCTCTAAACCTTTGAGTAATTCGACGACATTGGGTTCCCTCCGACGCTGTCTGACAACTCTTTAAGATCCTTGGCACGATGTCGATAGACATTGTCCCTGATGACGCCTCACAAGGTAACCTGGCTCTAGTAGGGTGGTCTTTGCTGCGGAACTTACCACCTGGTGGATCCAAGCACCAGAGGAGTTCGAAGAGGCTGGGGTACCCCCTATTTAGGAAGGGCGAGACTACGGTCACAAATTCCAAATGGCTTCCCTCGATTCATGACGCCAGAATGCCTGGCTGTGCCAATTTGTCGCCTTGCGTCGTTCTGTCAATCTTTACTCGTGTCGTGTTGTGATAAATGACAAACCCTGCACAACGTAGGGCTCACACAAGGGAATCTAGAGTATCCGATACAGGGAGCTTTAGCTTCCGTCCCTTATAGCCTGCCATATTCTTGCGGTAGCACGAGCCTCAGATCTTCTCACTCCGGAAATGGGAGCTTCGACGGTCAAGGGCTAAGACGTCTTCGGGAGAAATACCTAGGCGATGACCCTGAGTGGTTTTCCGCGTATAACTCATCCTGGTTGCAAATGATTACCGTTATAGCCTGGGGATATGCCTCAATTCCGAACCCAGGAGCATCACTCGAGCAATAGCGGTAAAGGAGGCTATTAGCAAAATTGTCACGATAAGCGCCGTTGTAGTGAAATTAAGATACATACATCGTTTAGCACATCACTCTCACGGCGTCTAGAAGCTGATCTTCATATGCTGACTCAGAAGGCTCGGATAATAGAGGACGAAGGTAGTTTACTCATCGCTGCCCCGACTATTACGTGTGCATGATAAAGTCTGACCCTGACGTTCCCAAGCCGAGGCAGAGGGGTTTTACGCTGAATGTCCGCTCTCTGTCGGATGATTTCGGAAGCTG\"\n",
    "e6_list=[]\n",
    "\n",
    "for base in DNA:\n",
    "    e6_list.append(base)    \n",
    "    \n",
    "numberA=len([base for base in e6_list if base == \"A\"])\n",
    "numberC=len([base for base in e6_list if base == \"C\"])\n",
    "numberG=len([base for base in e6_list if base == \"G\"])\n",
    "numberT=len([base for base in e6_list if base == \"T\"])\n",
    "\n",
    "letter={\"A\",\"C\",\"G\",\"T\"}\n",
    "number={numberA,numberC,numberG,numberT}\n",
    "dict((zip(letter,number)))\n"
   ]
  },
  {
   "cell_type": "code",
   "execution_count": 51,
   "id": "4287886e",
   "metadata": {},
   "outputs": [
    {
     "name": "stdout",
     "output_type": "stream",
     "text": [
      "(array(['A', 'C', 'G', 'T'], dtype='<U1'), array([247, 250, 249, 254], dtype=int64))\n"
     ]
    }
   ],
   "source": [
    "DNA=\"AGGCAAGAAGCTAGAATTCTGGCCTGAGTATCTCAGTACAGGCGCAGTCGAATCTTCCGGAATCACATTGCTCGCGCTTAAACCCGCTCTAAACCTTTGAGTAATTCGACGACATTGGGTTCCCTCCGACGCTGTCTGACAACTCTTTAAGATCCTTGGCACGATGTCGATAGACATTGTCCCTGATGACGCCTCACAAGGTAACCTGGCTCTAGTAGGGTGGTCTTTGCTGCGGAACTTACCACCTGGTGGATCCAAGCACCAGAGGAGTTCGAAGAGGCTGGGGTACCCCCTATTTAGGAAGGGCGAGACTACGGTCACAAATTCCAAATGGCTTCCCTCGATTCATGACGCCAGAATGCCTGGCTGTGCCAATTTGTCGCCTTGCGTCGTTCTGTCAATCTTTACTCGTGTCGTGTTGTGATAAATGACAAACCCTGCACAACGTAGGGCTCACACAAGGGAATCTAGAGTATCCGATACAGGGAGCTTTAGCTTCCGTCCCTTATAGCCTGCCATATTCTTGCGGTAGCACGAGCCTCAGATCTTCTCACTCCGGAAATGGGAGCTTCGACGGTCAAGGGCTAAGACGTCTTCGGGAGAAATACCTAGGCGATGACCCTGAGTGGTTTTCCGCGTATAACTCATCCTGGTTGCAAATGATTACCGTTATAGCCTGGGGATATGCCTCAATTCCGAACCCAGGAGCATCACTCGAGCAATAGCGGTAAAGGAGGCTATTAGCAAAATTGTCACGATAAGCGCCGTTGTAGTGAAATTAAGATACATACATCGTTTAGCACATCACTCTCACGGCGTCTAGAAGCTGATCTTCATATGCTGACTCAGAAGGCTCGGATAATAGAGGACGAAGGTAGTTTACTCATCGCTGCCCCGACTATTACGTGTGCATGATAAAGTCTGACCCTGACGTTCCCAAGCCGAGGCAGAGGGGTTTTACGCTGAATGTCCGCTCTCTGTCGGATGATTTCGGAAGCTG\"\n",
    "e6_list=[]\n",
    "\n",
    "for base in DNA:\n",
    "    e6_list.append(base)  \n",
    "    \n",
    "import numpy as np\n",
    "e6_np=np.array(e6_list)\n",
    "\n",
    "counting=np.unique(e6_np,return_counts=True)\n",
    "\n",
    "print(counting)\n",
    "\n"
   ]
  },
  {
   "cell_type": "code",
   "execution_count": 38,
   "id": "91b7b5e3",
   "metadata": {},
   "outputs": [
    {
     "name": "stdout",
     "output_type": "stream",
     "text": [
      "['AGGC', 'AAGA', 'AGCT', 'AGAA', 'TTCT', 'GGCC', 'TGAG', 'TATC', 'TCAG', 'TACA', 'GGCG', 'CAGT', 'CGAA', 'TCTT', 'CCGG', 'AATC', 'ACAT', 'TGCT', 'CGCG', 'CTTA', 'AACC', 'CGCT', 'CTAA', 'ACCT', 'TTGA', 'GTAA', 'TTCG', 'ACGA', 'CATT', 'GGGT', 'TCCC', 'TCCG', 'ACGC', 'TGTC', 'TGAC', 'AACT', 'CTTT', 'AAGA', 'TCCT', 'TGGC', 'ACGA', 'TGTC', 'GATA', 'GACA', 'TTGT', 'CCCT', 'GATG', 'ACGC', 'CTCA', 'CAAG', 'GTAA', 'CCTG', 'GCTC', 'TAGT', 'AGGG', 'TGGT', 'CTTT', 'GCTG', 'CGGA', 'ACTT', 'ACCA', 'CCTG', 'GTGG', 'ATCC', 'AAGC', 'ACCA', 'GAGG', 'AGTT', 'CGAA', 'GAGG', 'CTGG', 'GGTA', 'CCCC', 'CTAT', 'TTAG', 'GAAG', 'GGCG', 'AGAC', 'TACG', 'GTCA', 'CAAA', 'TTCC', 'AAAT', 'GGCT', 'TCCC', 'TCGA', 'TTCA', 'TGAC', 'GCCA', 'GAAT', 'GCCT', 'GGCT', 'GTGC', 'CAAT', 'TTGT', 'CGCC', 'TTGC', 'GTCG', 'TTCT', 'GTCA', 'ATCT', 'TTAC', 'TCGT', 'GTCG', 'TGTT', 'GTGA', 'TAAA', 'TGAC', 'AAAC', 'CCTG', 'CACA', 'ACGT', 'AGGG', 'CTCA', 'CACA', 'AGGG', 'AATC', 'TAGA', 'GTAT', 'CCGA', 'TACA', 'GGGA', 'GCTT', 'TAGC', 'TTCC', 'GTCC', 'CTTA', 'TAGC', 'CTGC', 'CATA', 'TTCT', 'TGCG', 'GTAG', 'CACG', 'AGCC', 'TCAG', 'ATCT', 'TCTC', 'ACTC', 'CGGA', 'AATG', 'GGAG', 'CTTC', 'GACG', 'GTCA', 'AGGG', 'CTAA', 'GACG', 'TCTT', 'CGGG', 'AGAA', 'ATAC', 'CTAG', 'GCGA', 'TGAC', 'CCTG', 'AGTG', 'GTTT', 'TCCG', 'CGTA', 'TAAC', 'TCAT', 'CCTG', 'GTTG', 'CAAA', 'TGAT', 'TACC', 'GTTA', 'TAGC', 'CTGG', 'GGAT', 'ATGC', 'CTCA', 'ATTC', 'CGAA', 'CCCA', 'GGAG', 'CATC', 'ACTC', 'GAGC', 'AATA', 'GCGG', 'TAAA', 'GGAG', 'GCTA', 'TTAG', 'CAAA', 'ATTG', 'TCAC', 'GATA', 'AGCG', 'CCGT', 'TGTA', 'GTGA', 'AATT', 'AAGA', 'TACA', 'TACA', 'TCGT', 'TTAG', 'CACA', 'TCAC', 'TCTC', 'ACGG', 'CGTC', 'TAGA', 'AGCT', 'GATC', 'TTCA', 'TATG', 'CTGA', 'CTCA', 'GAAG', 'GCTC', 'GGAT', 'AATA', 'GAGG', 'ACGA', 'AGGT', 'AGTT', 'TACT', 'CATC', 'GCTG', 'CCCC', 'GACT', 'ATTA', 'CGTG', 'TGCA', 'TGAT', 'AAAG', 'TCTG', 'ACCC', 'TGAC', 'GTTC', 'CCAA', 'GCCG', 'AGGC', 'AGAG', 'GGGT', 'TTTA', 'CGCT', 'GAAT', 'GTCC', 'GCTC', 'TCTG', 'TCGG', 'ATGA', 'TTTC', 'GGAA', 'GCTG']\n"
     ]
    }
   ],
   "source": [
    "#Q6\n",
    "DNA=\"AGGCAAGAAGCTAGAATTCTGGCCTGAGTATCTCAGTACAGGCGCAGTCGAATCTTCCGGAATCACATTGCTCGCGCTTAAACCCGCTCTAAACCTTTGAGTAATTCGACGACATTGGGTTCCCTCCGACGCTGTCTGACAACTCTTTAAGATCCTTGGCACGATGTCGATAGACATTGTCCCTGATGACGCCTCACAAGGTAACCTGGCTCTAGTAGGGTGGTCTTTGCTGCGGAACTTACCACCTGGTGGATCCAAGCACCAGAGGAGTTCGAAGAGGCTGGGGTACCCCCTATTTAGGAAGGGCGAGACTACGGTCACAAATTCCAAATGGCTTCCCTCGATTCATGACGCCAGAATGCCTGGCTGTGCCAATTTGTCGCCTTGCGTCGTTCTGTCAATCTTTACTCGTGTCGTGTTGTGATAAATGACAAACCCTGCACAACGTAGGGCTCACACAAGGGAATCTAGAGTATCCGATACAGGGAGCTTTAGCTTCCGTCCCTTATAGCCTGCCATATTCTTGCGGTAGCACGAGCCTCAGATCTTCTCACTCCGGAAATGGGAGCTTCGACGGTCAAGGGCTAAGACGTCTTCGGGAGAAATACCTAGGCGATGACCCTGAGTGGTTTTCCGCGTATAACTCATCCTGGTTGCAAATGATTACCGTTATAGCCTGGGGATATGCCTCAATTCCGAACCCAGGAGCATCACTCGAGCAATAGCGGTAAAGGAGGCTATTAGCAAAATTGTCACGATAAGCGCCGTTGTAGTGAAATTAAGATACATACATCGTTTAGCACATCACTCTCACGGCGTCTAGAAGCTGATCTTCATATGCTGACTCAGAAGGCTCGGATAATAGAGGACGAAGGTAGTTTACTCATCGCTGCCCCGACTATTACGTGTGCATGATAAAGTCTGACCCTGACGTTCCCAAGCCGAGGCAGAGGGGTTTTACGCTGAATGTCCGCTCTCTGTCGGATGATTTCGGAAGCTG\"\n",
    "parts = [DNA[i:i+4] for i in range(0, len(DNA), 4)]\n",
    "print(parts)"
   ]
  }
 ],
 "metadata": {
  "kernelspec": {
   "display_name": "Python 3 (ipykernel)",
   "language": "python",
   "name": "python3"
  },
  "language_info": {
   "codemirror_mode": {
    "name": "ipython",
    "version": 3
   },
   "file_extension": ".py",
   "mimetype": "text/x-python",
   "name": "python",
   "nbconvert_exporter": "python",
   "pygments_lexer": "ipython3",
   "version": "3.10.8"
  },
  "toc": {
   "base_numbering": 1,
   "nav_menu": {},
   "number_sections": true,
   "sideBar": true,
   "skip_h1_title": false,
   "title_cell": "Table of Contents",
   "title_sidebar": "Contents",
   "toc_cell": false,
   "toc_position": {},
   "toc_section_display": true,
   "toc_window_display": false
  },
  "varInspector": {
   "cols": {
    "lenName": 16,
    "lenType": 16,
    "lenVar": 40
   },
   "kernels_config": {
    "python": {
     "delete_cmd_postfix": "",
     "delete_cmd_prefix": "del ",
     "library": "var_list.py",
     "varRefreshCmd": "print(var_dic_list())"
    },
    "r": {
     "delete_cmd_postfix": ") ",
     "delete_cmd_prefix": "rm(",
     "library": "var_list.r",
     "varRefreshCmd": "cat(var_dic_list()) "
    }
   },
   "types_to_exclude": [
    "module",
    "function",
    "builtin_function_or_method",
    "instance",
    "_Feature"
   ],
   "window_display": false
  },
  "vscode": {
   "interpreter": {
    "hash": "31f2aee4e71d21fbe5cf8b01ff0e069b9275f58929596ceb00d14d90e3e16cd6"
   }
  }
 },
 "nbformat": 4,
 "nbformat_minor": 5
}
